{
 "cells": [
  {
   "cell_type": "markdown",
   "metadata": {},
   "source": [
    "# Using high-order Lagrange elements\n",
    "\n",
    "NekRS uses spectral element method, with Lagrange basis functions used on Gauss-Labatto-Legendre quadrature points. The exhibits exponential convergence under $p$-refinement. By default, VTK splits each spectral elements $(n+1)^3$ linear elements. Fairly recent additions to VTK mean that it can handle high-order Lagrange elements and means we have the potential to retain spectral accuracy in post-processing. \n",
    "\n",
    "In this tutorial, we convert the `UnstructuredGrid` from NekRS and convert it to use `vtkLagrangeHexahedron` elements. Currrently, it is not entirely clear if/when such a conversion will be useful, but it may allow for a more accurate of derivatives and maybe [vortex identification](../visualising_vortices.ipynb). \n",
    "\n",
    "The guts of this conversion is found in [`lagrange_convert.py`](lagrange_convert.py). It is fairly opaque but the core idea is that each spectral element must be extracted from original data and then the data must be re-ordered as VTK vertices must be order in a specific way. More information on high-order elements can be found [here](https://www.kitware.com/modeling-arbitrary-order-lagrange-finite-elements-in-the-visualization-toolkit/). The method used below is slow and would be much faster if implemented into the reader itself. Due to its slow speed, we will do this on the pebble case (the turbulent pipe flow takes up to 9 minutes).\n",
    "\n",
    "## Reading the data\n",
    "\n",
    "First, we read the data and use the `enable_spectral_element_ids` options, as this is how the each spectral element can be extracted and converted."
   ]
  },
  {
   "cell_type": "code",
   "execution_count": 16,
   "metadata": {},
   "outputs": [
    {
     "name": "stdout",
     "output_type": "stream",
     "text": [
      "3D-Mesh found, spectral element of size = 4pyvista DataSetAttributes\n",
      "Association     : CELL\n",
      "Active Scalars  : None\n",
      "Active Vectors  : None\n",
      "Active Texture  : None\n",
      "Active Normals  : None\n",
      "Contains arrays :\n",
      "    spectral element id     uint32     (51408,)\n",
      "*4*4=64\n"
     ]
    }
   ],
   "source": [
    "import pyvista as pv\n",
    "from pathlib import Path\n",
    "\n",
    "path_base = Path(\"../pebble_cht\")\n",
    "\n",
    "# get_reader function uses the file extensions to determine which reader should be used\n",
    "fluid_reader = pv.get_reader(path_base / \"pebble.nek5000\")\n",
    "fluid_reader.enable_spectral_element_ids()\n",
    "fluid = fluid_reader.read()\n",
    "\n",
    "print(fluid.cell_data)"
   ]
  },
  {
   "cell_type": "markdown",
   "metadata": {},
   "source": [
    "### Converting the mesh to use Lagrange Hexahedron"
   ]
  },
  {
   "cell_type": "code",
   "execution_count": 17,
   "metadata": {},
   "outputs": [],
   "source": [
    "from lagrange_convert import to_lagrange_hexahedron\n",
    "\n",
    "new_grid = to_lagrange_hexahedron(fluid)"
   ]
  },
  {
   "cell_type": "markdown",
   "metadata": {},
   "source": [
    "## View and compare with original\n",
    "\n",
    "For such a simple flow configuration, we do not expect any signficant difference between the two."
   ]
  },
  {
   "cell_type": "code",
   "execution_count": 18,
   "metadata": {},
   "outputs": [
    {
     "data": {
      "application/vnd.jupyter.widget-view+json": {
       "model_id": "81742469b71247b0af91407d03734a31",
       "version_major": 2,
       "version_minor": 0
      },
      "text/plain": [
       "Widget(value='<iframe src=\"http://localhost:35149/index.html?ui=P_0x77614455ee30_13&reconnect=auto\" class=\"pyv…"
      ]
     },
     "metadata": {},
     "output_type": "display_data"
    }
   ],
   "source": [
    "p = pv.Plotter(shape=(1,2), window_size=(250,600), border=False)\n",
    "p.subplot(0,0)\n",
    "\n",
    "p.add_mesh(fluid.clip(normal='x'),\n",
    "           scalars='Temperature',\n",
    "           cmap='bwr',\n",
    "           show_scalar_bar=False)\n",
    "\n",
    "p.subplot(0,1)\n",
    "\n",
    "p.add_mesh(new_grid.clip(normal='x'),\n",
    "           scalars='Temperature',\n",
    "           cmap='bwr',\n",
    "           show_scalar_bar=False)\n",
    "\n",
    "p.link_views()\n",
    "p.camera.zoom(2.)\n",
    "p.show()\n"
   ]
  }
 ],
 "metadata": {
  "kernelspec": {
   "display_name": "vtk_parallel",
   "language": "python",
   "name": "python3"
  },
  "language_info": {
   "codemirror_mode": {
    "name": "ipython",
    "version": 3
   },
   "file_extension": ".py",
   "mimetype": "text/x-python",
   "name": "python",
   "nbconvert_exporter": "python",
   "pygments_lexer": "ipython3",
   "version": "3.10.12"
  }
 },
 "nbformat": 4,
 "nbformat_minor": 2
}
