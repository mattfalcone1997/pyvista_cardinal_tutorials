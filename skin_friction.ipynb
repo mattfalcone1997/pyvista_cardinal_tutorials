{
 "cells": [
  {
   "cell_type": "markdown",
   "id": "dfd5760e",
   "metadata": {},
   "source": [
    "# Calculating the skin friction coefficient, $C_f$\n",
    "\n",
    "Skin friction coefficient is a non-dimensional quantity that characterises the friction drag that results from fluid viscosity and the presence of the wall. It is defined as the wall shear stress, $\\tau_w$ divided by the dynamic pressure, $\\rho U_b^2/2$:\n",
    "\n",
    "$C_f=\\frac{2\\tau_w}{\\rho U_b^2}$\n",
    "\n",
    "with \n",
    "\n",
    "$\\tau_w=\\mu\\frac{\\partial \\bar{\\vec{u}}}{\\partial \\vec{n}}$\n",
    "\n",
    "For many flows, $C_f$ exhibits a degree of similarity in particular with Reynolds number, $\\rho U_b L/\\mu$ and correlations exist for many flows, including turbulent pipe flows:\n",
    "\n",
    "$C_f = \\frac{1}{4}\\left(-1.8\\log_{10}\\left(\\frac{6.9}{Re_D}\\right)\\right)^{-2}$\n",
    "\n",
    "## Turbulent pipe flow\n",
    "In this tutorial, we use streamwise periodic pipe flow at $Re_D=19000$ ($Re_\\tau=550$). This case is non-dimensionalised such that $\\rho=1$, $U_b=1$, radius, $D=1$ and $\\mu=1/Re_{D}$. Note that unlike in the channel case, $z$ is the streamwise direction\n",
    "\n",
    "Using the correlation above $C_f=0.00652$. \n",
    "\n",
    "To decompress the data\n",
    "\n",
    "```bash\n",
    "gzip -d turbPipe/*.gz\n",
    "```\n",
    "\n",
    "## Calculating $\\tau_w$\n",
    "The key element of this is computing the wall shear stress\n",
    "1. Calculate the derivatives\n",
    "2. Extract the wall from the volume mesh\n",
    "3. Compute the gradient normal to the wall\n",
    "4. Average over the wall"
   ]
  },
  {
   "cell_type": "code",
   "execution_count": 3,
   "id": "7b9658c4",
   "metadata": {},
   "outputs": [
    {
     "name": "stdout",
     "output_type": "stream",
     "text": [
      "3D-Mesh found, spectral element of size = 8*8*8=512\n"
     ]
    },
    {
     "data": {
      "application/vnd.jupyter.widget-view+json": {
       "model_id": "c9263169ebb44461842f7638f32b3210",
       "version_major": 2,
       "version_minor": 0
      },
      "text/plain": [
       "Widget(value='<iframe src=\"http://localhost:38915/index.html?ui=P_0x7f9437443400_2&reconnect=auto\" class=\"pyvi…"
      ]
     },
     "metadata": {},
     "output_type": "display_data"
    }
   ],
   "source": [
    "import pyvista as pv\n",
    "# Load the data\n",
    "fluid_reader = pv.get_reader('turbPipe/turbPipe.nek5000')\n",
    "fluid_reader.enable_merge_points()\n",
    "fluid_reader.set_active_time_point(fluid_reader.number_time_points-1)\n",
    "\n",
    "fluid = fluid_reader.read()\n",
    "fluid.clip(normal='x').plot(window_size=(450,450),\n",
    "                       scalars='Velocity',\n",
    "                       cmap='bwr')"
   ]
  },
  {
   "cell_type": "markdown",
   "id": "6a1a84ae",
   "metadata": {},
   "source": [
    "### compute derivatives and extract surface\n"
   ]
  },
  {
   "cell_type": "code",
   "execution_count": 4,
   "id": "0f81eb3a",
   "metadata": {},
   "outputs": [
    {
     "data": {
      "application/vnd.jupyter.widget-view+json": {
       "model_id": "ae2f0a069bfe4ee49155f435c35991a5",
       "version_major": 2,
       "version_minor": 0
      },
      "text/plain": [
       "Widget(value='<iframe src=\"http://localhost:38915/index.html?ui=P_0x7f9437edb160_3&reconnect=auto\" class=\"pyvi…"
      ]
     },
     "metadata": {},
     "output_type": "display_data"
    }
   ],
   "source": [
    "fluid = fluid.compute_derivative(scalars='Velocity')\n",
    "\n",
    "# extract all boundaries including inlet and outlet which we do not want\n",
    "surface = fluid.extract_surface()\n",
    "# get bounding box and shave off the inlet and outlet\n",
    "xmin, xmax, ymin, ymax, zmin, zmax = surface.bounds\n",
    "dz = 0.01*(zmax - zmin)\n",
    "new_bounds = [xmin, xmax, ymin, ymax, zmin+dz, zmax-dz]\n",
    "\n",
    "# clip the surface with the new bounding box with inlet and outlet shaved\n",
    "wall = surface.clip_box(new_bounds, invert=False)\n",
    "\n",
    "#plot\n",
    "wall.plot(window_size=(450,450))\n"
   ]
  },
  {
   "cell_type": "markdown",
   "id": "f403e09e",
   "metadata": {},
   "source": [
    "### Project gradient onto surface normals\n",
    "\n",
    "In order the extract the surface normals we need to convert the wall from an `UnstructuredGrid` to a `PolyData`. Then we can use `compute_normals`. As only the point normals are required, `cell_normals=False` is passed. To calculate the magnitude of the velocity derivative normal to the wall we use\n",
    "\n",
    "$\\vert \\frac{\\partial u_z}{\\partial \\vec{n}}\\vert \\cos\\theta =  \\frac{\\frac{\\partial u_z}{\\partial \\vec{x}}\\cdot \\vec{n}}{\\vert \\vec{n}\\vert},$\n",
    "\n",
    "where $\\vert n\\vert = 1$."
   ]
  },
  {
   "cell_type": "code",
   "execution_count": 5,
   "id": "2a0ec9be",
   "metadata": {},
   "outputs": [],
   "source": [
    "import numpy as np\n",
    "\n",
    "# extract cell normals\n",
    "wall = wall.extract_geometry().compute_normals(cell_normals=False)\n",
    "normals = wall.point_data['Normals']\n",
    "\n",
    "# streamwise direction is z so we need ZX, ZY and ZZ from tensor\n",
    "dudz = wall.point_data['gradient'][:,6:]\n",
    "\n",
    "# compute dot product\n",
    "du_n = np.linalg.vecdot(dudz, normals)\n",
    "\n",
    "# Calculate average from all wall cells\n",
    "dudn_mean = abs(du_n).mean()"
   ]
  },
  {
   "cell_type": "markdown",
   "id": "e0ed14a0",
   "metadata": {},
   "source": [
    "### Compute $C_f$"
   ]
  },
  {
   "cell_type": "code",
   "execution_count": 6,
   "id": "801174cf",
   "metadata": {},
   "outputs": [
    {
     "name": "stdout",
     "output_type": "stream",
     "text": [
      "Calculated:  0.0068348483\n",
      "Correlation:  0.006520820185665624\n"
     ]
    }
   ],
   "source": [
    "ReD = 19000\n",
    "\n",
    "mu = 1./ReD\n",
    "Ub = 1.\n",
    "rho = 1.\n",
    "\n",
    "tau_w = mu*dudn_mean\n",
    "\n",
    "Cf = 2*tau_w/(rho*Ub*Ub)\n",
    "Cf_ref = 0.25*np.pow(-1.8*np.log10(6.9/ReD), -2)\n",
    "\n",
    "print(\"Calculated: \", Cf)\n",
    "print(\"Correlation: \", Cf_ref)\n"
   ]
  }
 ],
 "metadata": {
  "kernelspec": {
   "display_name": "vtk_parallel",
   "language": "python",
   "name": "python3"
  },
  "language_info": {
   "codemirror_mode": {
    "name": "ipython",
    "version": 3
   },
   "file_extension": ".py",
   "mimetype": "text/x-python",
   "name": "python",
   "nbconvert_exporter": "python",
   "pygments_lexer": "ipython3",
   "version": "3.10.12"
  }
 },
 "nbformat": 4,
 "nbformat_minor": 5
}
