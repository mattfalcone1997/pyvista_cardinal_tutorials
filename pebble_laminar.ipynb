{
 "cells": [
  {
   "cell_type": "markdown",
   "metadata": {},
   "source": [
    "# Conjugate Heat Transfer for Flow Over a Pebble\n",
    "\n",
    "This case considers the laminar flow around a pebble with a volumetric heat source. Information about the Cardinal tutorial can be found [here](https://cardinal.cels.anl.gov/tutorials/cht5.html).\n",
    "\n",
    "<img src=\"https://cardinal.cels.anl.gov/media/pebble_1.png\" width=\"300\" height=\"300\" />\n",
    "\n",
    "This tutorial provides the data that will be used to showcase some basic `pyvista` functionality. "
   ]
  },
  {
   "cell_type": "markdown",
   "metadata": {},
   "source": [
    "## Reading data from Exodus and Nek5000 files"
   ]
  },
  {
   "cell_type": "code",
   "execution_count": null,
   "metadata": {},
   "outputs": [
    {
     "name": "stdout",
     "output_type": "stream",
     "text": [
      "ExodusIIReader('pebble_cht/pebble.exo')\n",
      "Nek5000Reader('pebble_cht/pebble.nek5000')\n",
      "ExodusIIReader('pebble_cht/solid_out.e')\n"
     ]
    }
   ],
   "source": [
    "import pyvista as pv\n",
    "from pathlib import Path\n",
    "\n",
    "path_base = Path(\"pebble_cht\")\n",
    "\n",
    "# get_reader function uses the file extensions to determine which reader should be used\n",
    "fluid_mesh_reader = pv.get_reader(path_base / \"pebble.exo\")\n",
    "fluid_reader = pv.get_reader(path_base / \"pebble.nek5000\")\n",
    "solid_reader = pv.get_reader(path_base / \"solid_out.e\")\n",
    "\n",
    "print(fluid_mesh_reader)\n",
    "print(fluid_reader)\n",
    "print(solid_reader)\n"
   ]
  },
  {
   "cell_type": "markdown",
   "metadata": {},
   "source": [
    "## Some features of the ExodusIIReader\n",
    "\n",
    "Here, we explore some of the basic operations related to the ExodusIIReader including handling of blocks and sets. By default, the ExodusIIReader the nodal and element block result arrays, which are interpretted as point and cell data, respectively. The full list of blocks and sets are\n",
    "* *Element Blocks*\n",
    "* Face Blocks\n",
    "* Edge Blocks\n",
    "* Element Sets\n",
    "* *Side Sets*\n",
    "* Face Sets\n",
    "* Edge Sets\n",
    "* *Node Sets*\n",
    "At high-level these are exposed through the `ExodusIIBlockSet` class"
   ]
  },
  {
   "cell_type": "code",
   "execution_count": null,
   "metadata": {},
   "outputs": [
    {
     "name": "stdout",
     "output_type": "stream",
     "text": [
      "['FLUID']\n",
      "[]\n",
      "['INLET', 'OUTLET', 'INTERFACEL', 'WALL']\n"
     ]
    }
   ],
   "source": [
    "print(fluid_mesh_reader.element_blocks.names)\n",
    "print(fluid_mesh_reader.side_sets.names)"
   ]
  },
  {
   "cell_type": "markdown",
   "metadata": {},
   "source": [
    "### MultiBlock datasets\n",
    "\n",
    "The `ExodusIIReader`returns a `MultiBlock` dataset with a block for each block/set. These blocks are themselves `MultiBlock` datasets that contain a number of `UnstructuredGrid`s. `MultiBlock` objects are traversed like Python `Dict`s and can be indexed using the block name or an integer."
   ]
  },
  {
   "cell_type": "code",
   "execution_count": 60,
   "metadata": {},
   "outputs": [
    {
     "name": "stdout",
     "output_type": "stream",
     "text": [
      "MultiBlock (0x702e402618a0)\n",
      "  N Blocks:   8\n",
      "  X Bounds:   -2.530e-02, 2.530e-02\n",
      "  Y Bounds:   -2.530e-02, 2.530e-02\n",
      "  Z Bounds:   -2.153e-01, 2.153e-01\n",
      "['Element Blocks', 'Face Blocks', 'Edge Blocks', 'Element Sets', 'Side Sets', 'Face Sets', 'Edge Sets', 'Node Sets']\n",
      "INLET\n",
      "UnstructuredGrid (0x702de86d2d40)\n",
      "  N Cells:    36\n",
      "  N Points:   133\n",
      "  X Bounds:   -2.530e-02, 2.530e-02\n",
      "  Y Bounds:   -2.530e-02, 2.530e-02\n",
      "  Z Bounds:   -2.153e-01, -2.153e-01\n",
      "  N Arrays:   2 \n",
      "\n",
      "\n",
      "OUTLET\n",
      "UnstructuredGrid (0x702de86d2d40)\n",
      "  N Cells:    36\n",
      "  N Points:   133\n",
      "  X Bounds:   -2.530e-02, 2.530e-02\n",
      "  Y Bounds:   -2.530e-02, 2.530e-02\n",
      "  Z Bounds:   2.153e-01, 2.153e-01\n",
      "  N Arrays:   2 \n",
      "\n",
      "\n",
      "INTERFACEL\n",
      "UnstructuredGrid (0x702de86d2d40)\n",
      "  N Cells:    96\n",
      "  N Points:   290\n",
      "  X Bounds:   -1.500e-02, 1.500e-02\n",
      "  Y Bounds:   -1.500e-02, 1.500e-02\n",
      "  Z Bounds:   -1.500e-02, 1.500e-02\n",
      "  N Arrays:   2 \n",
      "\n",
      "\n",
      "WALL\n",
      "UnstructuredGrid (0x702de86d2d40)\n",
      "  N Cells:    1056\n",
      "  N Points:   3216\n",
      "  X Bounds:   -2.530e-02, 2.530e-02\n",
      "  Y Bounds:   -2.530e-02, 2.530e-02\n",
      "  Z Bounds:   -2.153e-01, 2.153e-01\n",
      "  N Arrays:   2 \n",
      "\n",
      "\n"
     ]
    },
    {
     "data": {
      "application/vnd.jupyter.widget-view+json": {
       "model_id": "4b6f4439e7564a6daf388ed434821acd",
       "version_major": 2,
       "version_minor": 0
      },
      "text/plain": [
       "Widget(value='<iframe src=\"http://localhost:39023/index.html?ui=P_0x702e2ab3c250_43&reconnect=auto\" class=\"pyv…"
      ]
     },
     "metadata": {},
     "output_type": "display_data"
    }
   ],
   "source": [
    "#Enable sidesets and read\n",
    "fluid_mesh = fluid_mesh_reader.read()\n",
    "\n",
    "# ExodusIIReader returns a MultiBlock dataset\n",
    "print(fluid_mesh)\n",
    "\n",
    "# Each block corresponds to the sets and blocks\n",
    "# available in the Exodus II specification\n",
    "print(fluid_mesh.keys())\n",
    "\n",
    "boundaries = fluid_mesh[\"Side Sets\"].keys()\n",
    "for boundary in boundaries:\n",
    "    print(boundary)\n",
    "    print(fluid_mesh[\"Side Sets\"][boundary], \"\\n\\n\")\n",
    "\n",
    "fluid_mesh[\"Side Sets\"].plot(window_size=(250,600),\n",
    "                             zoom=2.,\n",
    "                             color='gray')\n"
   ]
  },
  {
   "cell_type": "markdown",
   "metadata": {},
   "source": [
    "### Re-creating image from Tutorial\n",
    "\n",
    "In this section, we re-create the image from the introduction with an interactive plot with linked views. We also introduce filters, starting simply with the `clip` filter, which removes half the mesh on one side of plane. There are huge numbers of filters you can use."
   ]
  },
  {
   "cell_type": "code",
   "execution_count": 68,
   "metadata": {},
   "outputs": [
    {
     "data": {
      "application/vnd.jupyter.widget-view+json": {
       "model_id": "8e4c2160b0d34fbc9a79029fe481f68c",
       "version_major": 2,
       "version_minor": 0
      },
      "text/plain": [
       "Widget(value='<iframe src=\"http://localhost:39023/index.html?ui=P_0x702a53fd2680_50&reconnect=auto\" class=\"pyv…"
      ]
     },
     "metadata": {},
     "output_type": "display_data"
    }
   ],
   "source": [
    "# lets look at the interior of the fluid mesh by clipping it through the pebble\n",
    "clipped_side_sets = fluid_mesh[\"Side Sets\"].clip(origin=(0,0,0), normal='y')\n",
    "clipped_blocks = fluid_mesh[\"Element Blocks\"].clip(origin=(0,0,0), normal='y')\n",
    "\n",
    "# Create two side-by-side render windows\n",
    "p = pv.Plotter(window_size=(500,600), shape=(1,2), border=False)\n",
    "\n",
    "#select first render window and plot the element blocks\n",
    "p.subplot(0,0)\n",
    "p.add_mesh(clipped_blocks,\n",
    "           color='gray',\n",
    "           show_edges=True,\n",
    "           edge_color='k')\n",
    "p.add_axes()\n",
    "\n",
    "#select second render window and plot each side set with a different color\n",
    "\n",
    "p.subplot(0,1)\n",
    "colors = ['r', 'g', 'b', 'y']\n",
    "for boundary, color in zip(boundaries, colors):\n",
    "    p.add_mesh(clipped_side_sets[boundary],\n",
    "               color=color,\n",
    "               show_edges=True,\n",
    "               edge_color='k')\n",
    "p.add_axes()\n",
    "\n",
    "#link views and adjust camera\n",
    "p.link_views()\n",
    "p.camera.zoom(2.0)\n",
    "p.show()\n"
   ]
  },
  {
   "cell_type": "markdown",
   "metadata": {},
   "source": [
    "## Visualise fluid and solid results\n",
    "\n",
    "Here, we visualise the solid and fluid temperature field at the last output time point. We are interested in the results at the last time step, so we must set the time point or value before reading."
   ]
  },
  {
   "cell_type": "code",
   "execution_count": null,
   "metadata": {},
   "outputs": [
    {
     "name": "stdout",
     "output_type": "stream",
     "text": [
      "Solid time: 635.0.\n",
      "Fluid time: 635.0.\n"
     ]
    },
    {
     "data": {
      "application/vnd.jupyter.widget-view+json": {
       "model_id": "116f59f1aa814c389e4b3288017fe130",
       "version_major": 2,
       "version_minor": 0
      },
      "text/plain": [
       "Widget(value='<iframe src=\"http://localhost:39023/index.html?ui=P_0x702a291d31f0_54&reconnect=auto\" class=\"pyv…"
      ]
     },
     "metadata": {},
     "output_type": "display_data"
    }
   ],
   "source": [
    "# Visualise flow\n",
    "\n",
    "## set the active time point (can also set the time value)\n",
    "solid_reader.set_active_time_point(solid_reader.number_time_points-1)\n",
    "fluid_reader.set_active_time_point(fluid_reader.number_time_points-1)\n",
    "\n",
    "print(f\"Solid time: {solid_reader.active_time_value}.\")\n",
    "print(f\"Fluid time: {fluid_reader.active_time_value}.\")\n",
    "\n",
    "# Use Data from the element blocks\n",
    "solid = solid_reader.read()\n",
    "solid_blocks = solid['Element Blocks'][0]\n",
    "\n",
    "# Nek5000Reader returns Unstructuredgrid\n",
    "fluid = fluid_reader.read()\n",
    "\n",
    "# plot show meshes using the plotter class\n",
    "\n",
    "solid_clip = solid_blocks.clip(normal='y', origin=(0,0,0))\n",
    "fluid_clip = fluid.clip(normal='y', origin=(0,0,0))\n",
    "\n",
    "p = pv.Plotter(window_size=(250,600))\n",
    "p.add_mesh(solid_clip,\n",
    "           scalars='temp',\n",
    "           cmap='bwr',\n",
    "           clim=(0,600),\n",
    "           show_edges=True,\n",
    "           show_scalar_bar=False)\n",
    "\n",
    "p.add_mesh(fluid_clip,\n",
    "           scalars='Temperature',\n",
    "           cmap='bwr',\n",
    "           clim=(0,600),\n",
    "           scalar_bar_args={'width' : 0.9,\n",
    "                            'position_x' : 0.05,\n",
    "                            'fmt' : \"%.3g\"})\n",
    "p.camera.zoom(2.)\n",
    "p.show()"
   ]
  }
 ],
 "metadata": {
  "kernelspec": {
   "display_name": "vtk_parallel",
   "language": "python",
   "name": "python3"
  },
  "language_info": {
   "codemirror_mode": {
    "name": "ipython",
    "version": 3
   },
   "file_extension": ".py",
   "mimetype": "text/x-python",
   "name": "python",
   "nbconvert_exporter": "python",
   "pygments_lexer": "ipython3",
   "version": "3.10.12"
  }
 },
 "nbformat": 4,
 "nbformat_minor": 2
}
