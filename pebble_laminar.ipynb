{
 "cells": [
  {
   "cell_type": "markdown",
   "metadata": {},
   "source": [
    "# Conjugate Heat Transfer for Flow Over a Pebble\n",
    "\n",
    "This case considers the laminar flow around a pebble with a volumetric heat source. Information about the Cardinal tutorial can be found [here](https://cardinal.cels.anl.gov/tutorials/cht5.html).\n",
    "\n",
    "<img src=\"https://cardinal.cels.anl.gov/media/pebble_1.png\" width=\"300\" height=\"300\" />\n",
    "\n",
    "This tutorial provides the data that will be used to showcase some basic `pyvista` functionality. "
   ]
  },
  {
   "cell_type": "markdown",
   "metadata": {},
   "source": [
    "## Reading data from Exodus and Nek5000 files\n",
    "\n",
    "The pebble data is gzipped in the `pebble_cht` directory. To decompress it:\n",
    "```bash\n",
    "gzip -d -k pebble_cht/*.gz \n",
    "```\n",
    "\n",
    "First, we will read the fluid mesh and fluid and solid results files using the `pv.get_reader` method which uses the file extension to determine which reader to use. The Exodus files are read using [`ExodusIIReader`](https://docs.pyvista.org/api/readers/_autosummary/pyvista.exodusiireader#pyvista.ExodusIIReader) and the NekRS data is read using [`Nek5000Reader`](https://docs.pyvista.org/api/readers/_autosummary/pyvista.nek5000reader)."
   ]
  },
  {
   "cell_type": "code",
   "execution_count": 2,
   "metadata": {},
   "outputs": [
    {
     "name": "stdout",
     "output_type": "stream",
     "text": [
      "ExodusIIReader('pebble_cht/pebble.exo')\n",
      "Nek5000Reader('pebble_cht/pebble.nek5000')\n",
      "ExodusIIReader('pebble_cht/solid_out.e')\n"
     ]
    }
   ],
   "source": [
    "import pyvista as pv\n",
    "from pathlib import Path\n",
    "\n",
    "path_base = Path(\"pebble_cht\")\n",
    "\n",
    "# get_reader function uses the file extensions to determine which reader should be used\n",
    "fluid_mesh_reader = pv.get_reader(path_base / \"pebble.exo\")\n",
    "fluid_reader = pv.get_reader(path_base / \"pebble.nek5000\")\n",
    "solid_reader = pv.get_reader(path_base / \"solid_out.e\")\n",
    "\n",
    "print(fluid_mesh_reader)\n",
    "print(fluid_reader)\n",
    "print(solid_reader)\n"
   ]
  },
  {
   "cell_type": "markdown",
   "metadata": {},
   "source": [
    "## Some features of the ExodusIIReader\n",
    "\n",
    "Here, we explore some of the basic operations related to the ExodusIIReader including handling of blocks and sets. By default, the ExodusIIReader the nodal and element block result arrays, which are interpretted as point and cell data, respectively. The full list of blocks and sets are\n",
    "* *Element Blocks*\n",
    "* Face Blocks\n",
    "* Edge Blocks\n",
    "* Element Sets\n",
    "* *Side Sets*\n",
    "* Face Sets\n",
    "* Edge Sets\n",
    "* *Node Sets*\n",
    "At high-level these are exposed through the [`ExodusIIBlockSet`](https://docs.pyvista.org/api/readers/_autosummary/pyvista.exodusiiblockset#pyvista.ExodusIIBlockSet) class. To explore this further, we will have a closer look at the fluid mesh."
   ]
  },
  {
   "cell_type": "code",
   "execution_count": 3,
   "metadata": {},
   "outputs": [
    {
     "name": "stdout",
     "output_type": "stream",
     "text": [
      "['FLUID']\n",
      "['INLET', 'OUTLET', 'INTERFACEL', 'WALL']\n"
     ]
    }
   ],
   "source": [
    "print(fluid_mesh_reader.element_blocks.names)\n",
    "print(fluid_mesh_reader.side_sets.names)"
   ]
  },
  {
   "cell_type": "markdown",
   "metadata": {},
   "source": [
    "### MultiBlock datasets\n",
    "\n",
    "The `ExodusIIReader`returns a `MultiBlock` dataset with a block for each block/set. These blocks are themselves `MultiBlock` datasets that contain a number of `UnstructuredGrid`s. `MultiBlock` objects are traversed like Python `Dict`s and can be indexed using the block name or an integer."
   ]
  },
  {
   "cell_type": "code",
   "execution_count": 8,
   "metadata": {},
   "outputs": [
    {
     "name": "stdout",
     "output_type": "stream",
     "text": [
      "MultiBlock (0x77edcc37e680)\n",
      "  N Blocks:   8\n",
      "  X Bounds:   -2.530e-02, 2.530e-02\n",
      "  Y Bounds:   -2.530e-02, 2.530e-02\n",
      "  Z Bounds:   -2.153e-01, 2.153e-01\n",
      "1 Element Blocks\n",
      "2 Face Blocks\n",
      "3 Edge Blocks\n",
      "4 Element Sets\n",
      "5 Side Sets\n",
      "6 Face Sets\n",
      "7 Edge Sets\n",
      "8 Node Sets\n"
     ]
    }
   ],
   "source": [
    "#Enable sidesets and read\n",
    "fluid_mesh_reader.side_sets.enable_all()\n",
    "fluid_mesh = fluid_mesh_reader.read()\n",
    "\n",
    "# ExodusIIReader returns a MultiBlock dataset\n",
    "print(fluid_mesh)\n",
    "\n",
    "# Each block corresponds to the sets and blocks\n",
    "# available in the Exodus II specification\n",
    "for i, key in enumerate(fluid_mesh.keys(), 1):\n",
    "    print(i, key)\n"
   ]
  },
  {
   "cell_type": "markdown",
   "metadata": {},
   "source": [
    "Let's look at the contents of the Side Sets MultiBlock Dataset"
   ]
  },
  {
   "cell_type": "code",
   "execution_count": 9,
   "metadata": {},
   "outputs": [
    {
     "name": "stdout",
     "output_type": "stream",
     "text": [
      "\n",
      " INLET\n",
      "UnstructuredGrid (0x77edcc37e1a0)\n",
      "  N Cells:    36\n",
      "  N Points:   133\n",
      "  X Bounds:   -2.530e-02, 2.530e-02\n",
      "  Y Bounds:   -2.530e-02, 2.530e-02\n",
      "  Z Bounds:   -2.153e-01, -2.153e-01\n",
      "  N Arrays:   2 \n",
      "\n",
      "\n",
      " OUTLET\n",
      "UnstructuredGrid (0x77edcc37e1a0)\n",
      "  N Cells:    36\n",
      "  N Points:   133\n",
      "  X Bounds:   -2.530e-02, 2.530e-02\n",
      "  Y Bounds:   -2.530e-02, 2.530e-02\n",
      "  Z Bounds:   2.153e-01, 2.153e-01\n",
      "  N Arrays:   2 \n",
      "\n",
      "\n",
      " INTERFACEL\n",
      "UnstructuredGrid (0x77edcc37e1a0)\n",
      "  N Cells:    96\n",
      "  N Points:   290\n",
      "  X Bounds:   -1.500e-02, 1.500e-02\n",
      "  Y Bounds:   -1.500e-02, 1.500e-02\n",
      "  Z Bounds:   -1.500e-02, 1.500e-02\n",
      "  N Arrays:   2 \n",
      "\n",
      "\n",
      " WALL\n",
      "UnstructuredGrid (0x77edcc37e1a0)\n",
      "  N Cells:    1056\n",
      "  N Points:   3216\n",
      "  X Bounds:   -2.530e-02, 2.530e-02\n",
      "  Y Bounds:   -2.530e-02, 2.530e-02\n",
      "  Z Bounds:   -2.153e-01, 2.153e-01\n",
      "  N Arrays:   2 \n",
      "\n"
     ]
    }
   ],
   "source": [
    "\n",
    "boundaries = fluid_mesh[\"Side Sets\"].keys()\n",
    "for boundary in boundaries:\n",
    "    print(\"\\n\", boundary)\n",
    "    print(fluid_mesh[\"Side Sets\"][boundary], \"\\n\")"
   ]
  },
  {
   "cell_type": "markdown",
   "metadata": {},
   "source": [
    "## Filters\n",
    "\n",
    "Once data is loaded, the next step is usually to process the data in some way. In Pyvista, like Paraview this is done using filters.\n",
    "- These mirror those in Paraview\n",
    "- Include slices, clips, contours etc."
   ]
  },
  {
   "cell_type": "code",
   "execution_count": 11,
   "metadata": {},
   "outputs": [
    {
     "name": "stdout",
     "output_type": "stream",
     "text": [
      "MultiBlock (0x77ed9c7558a0)\n",
      "  N Blocks:   4\n",
      "  X Bounds:   -2.530e-02, 2.530e-02\n",
      "  Y Bounds:   -2.530e-02, 5.170e-26\n",
      "  Z Bounds:   -2.153e-01, 2.153e-01\n",
      "MultiBlock (0x77ed9c755120)\n",
      "  N Blocks:   1\n",
      "  X Bounds:   -2.530e-02, 2.530e-02\n",
      "  Y Bounds:   -2.530e-02, 3.825e-03\n",
      "  Z Bounds:   -2.153e-01, 2.153e-01\n"
     ]
    }
   ],
   "source": [
    "# lets look at the interior of the fluid mesh by clipping it through the pebble\n",
    "clipped_side_sets = fluid_mesh[\"Side Sets\"].clip(origin=(0,0,0),\n",
    "                                                 normal='y')\n",
    "\n",
    "clipped_blocks = fluid_mesh[\"Element Blocks\"].clip(origin=(0,0,0),\n",
    "                                                   normal='y')\n",
    "\n",
    "print(clipped_side_sets)\n",
    "print(clipped_blocks)"
   ]
  },
  {
   "cell_type": "markdown",
   "metadata": {},
   "source": [
    "## Plotting\n",
    "### Simple plots\n",
    "The most basic plots can be produced using the `plot` method on the datasets. Below, we plot the MultiBlock dataset containing the side sets. "
   ]
  },
  {
   "cell_type": "code",
   "execution_count": 12,
   "metadata": {},
   "outputs": [
    {
     "data": {
      "application/vnd.jupyter.widget-view+json": {
       "model_id": "2580795e121b48158e7c7ee228eb92c7",
       "version_major": 2,
       "version_minor": 0
      },
      "text/plain": [
       "Widget(value='<iframe src=\"http://localhost:42241/index.html?ui=P_0x77ed9c7527a0_2&reconnect=auto\" class=\"pyvi…"
      ]
     },
     "metadata": {},
     "output_type": "display_data"
    }
   ],
   "source": [
    "clipped_side_sets.plot(window_size=(250,600),\n",
    "                       zoom=2.,\n",
    "                       color='gray')\n"
   ]
  },
  {
   "cell_type": "code",
   "execution_count": 13,
   "metadata": {},
   "outputs": [
    {
     "data": {
      "application/vnd.jupyter.widget-view+json": {
       "model_id": "ed964909b78c44a694f0596eefbb802d",
       "version_major": 2,
       "version_minor": 0
      },
      "text/plain": [
       "Widget(value='<iframe src=\"http://localhost:42241/index.html?ui=P_0x77edcc2ddf00_3&reconnect=auto\" class=\"pyvi…"
      ]
     },
     "metadata": {},
     "output_type": "display_data"
    }
   ],
   "source": [
    "clipped_blocks.plot(window_size=(250,600),\n",
    "                       zoom=2.,\n",
    "                       color='gray')"
   ]
  },
  {
   "cell_type": "markdown",
   "metadata": {},
   "source": [
    "### Re-creating image from Tutorial\n",
    "\n",
    "In this section, we re-create the image from the introduction with an interactive plot with linked views. \n",
    "- Introduce `Plotter` class: used to create more complex images.\n",
    "\n",
    "<img src=\"https://cardinal.cels.anl.gov/media/pebble_1.png\" width=\"300\" height=\"300\" />"
   ]
  },
  {
   "cell_type": "code",
   "execution_count": 15,
   "metadata": {},
   "outputs": [
    {
     "data": {
      "application/vnd.jupyter.widget-view+json": {
       "model_id": "29827423843d48fe92344e34554b5228",
       "version_major": 2,
       "version_minor": 0
      },
      "text/plain": [
       "Widget(value='<iframe src=\"http://localhost:42241/index.html?ui=P_0x77ec6de0b8e0_5&reconnect=auto\" class=\"pyvi…"
      ]
     },
     "metadata": {},
     "output_type": "display_data"
    }
   ],
   "source": [
    "\n",
    "# Create two side-by-side render windows\n",
    "p = pv.Plotter(window_size=(500,600), shape=(1,2), border=False)\n",
    "\n",
    "#select first render window and plot the element blocks\n",
    "p.subplot(0,0)\n",
    "p.add_mesh(clipped_blocks,\n",
    "           color='gray',\n",
    "           show_edges=True,\n",
    "           edge_color='k')\n",
    "p.add_axes()\n",
    "\n",
    "#select second render window and plot each side set with a different color\n",
    "\n",
    "p.subplot(0,1)\n",
    "boundaries = clipped_side_sets.keys()\n",
    "colors = ['r', 'g', 'b', 'y']\n",
    "for boundary, color in zip(boundaries, colors):\n",
    "    p.add_mesh(clipped_side_sets[boundary],\n",
    "               color=color,\n",
    "               show_edges=True,\n",
    "               edge_color='k')\n",
    "p.add_axes()\n",
    "\n",
    "#link views and adjust camera\n",
    "p.link_views()\n",
    "p.camera.zoom(2.0)\n",
    "p.show()\n"
   ]
  },
  {
   "cell_type": "markdown",
   "metadata": {},
   "source": [
    "## Visualise fluid and solid results\n",
    "\n",
    "Here, we visualise the solid and fluid temperature field at the last output time point. We are interested in the results at the last time step, so we must set the time point or value before reading."
   ]
  },
  {
   "cell_type": "code",
   "execution_count": 16,
   "metadata": {},
   "outputs": [
    {
     "name": "stdout",
     "output_type": "stream",
     "text": [
      "Solid time: 635.0.\n",
      "Fluid time: 635.0.\n",
      "3D-Mesh found, spectral element of size = 4*4*4=64\n",
      "UnstructuredGrid (0x77ec6dd85d80)\n",
      "  N Cells:    3584\n",
      "  N Points:   3817\n",
      "  X Bounds:   -1.500e-02, 1.500e-02\n",
      "  Y Bounds:   -1.500e-02, 1.500e-02\n",
      "  Z Bounds:   -1.500e-02, 1.500e-02\n",
      "  N Arrays:   7\n",
      "UnstructuredGrid (0x77ec1d6ce1a0)\n",
      "  N Cells:    51408\n",
      "  N Points:   121856\n",
      "  X Bounds:   -2.530e-02, 2.530e-02\n",
      "  Y Bounds:   -2.530e-02, 2.530e-02\n",
      "  Z Bounds:   -2.153e-01, 2.153e-01\n",
      "  N Arrays:   4\n"
     ]
    }
   ],
   "source": [
    "# Visualise flow\n",
    "\n",
    "## set the active time point (can also set the time value)\n",
    "solid_reader.set_active_time_point(solid_reader.number_time_points-1)\n",
    "fluid_reader.set_active_time_point(fluid_reader.number_time_points-1)\n",
    "\n",
    "print(f\"Solid time: {solid_reader.active_time_value}.\")\n",
    "print(f\"Fluid time: {fluid_reader.active_time_value}.\")\n",
    "\n",
    "# Use Data from the element blocks\n",
    "solid = solid_reader.read()\n",
    "solid_blocks = solid['Element Blocks'][0]\n",
    "\n",
    "# Nek5000Reader returns Unstructuredgrid\n",
    "fluid = fluid_reader.read()\n",
    "\n",
    "print(solid_blocks)\n",
    "print(fluid)"
   ]
  },
  {
   "cell_type": "code",
   "execution_count": 17,
   "metadata": {},
   "outputs": [
    {
     "data": {
      "application/vnd.jupyter.widget-view+json": {
       "model_id": "79c48a7ec91d4c14b17806ed13901e67",
       "version_major": 2,
       "version_minor": 0
      },
      "text/plain": [
       "Widget(value='<iframe src=\"http://localhost:42241/index.html?ui=P_0x77ec6de0ad10_6&reconnect=auto\" class=\"pyvi…"
      ]
     },
     "metadata": {},
     "output_type": "display_data"
    }
   ],
   "source": [
    "# plot show meshes using the plotter class\n",
    "solid_clip = solid_blocks.clip(normal='y', origin=(0,0,0))\n",
    "fluid_clip = fluid.clip(normal='y', origin=(0,0,0))\n",
    "\n",
    "p = pv.Plotter(window_size=(250,600))\n",
    "p.add_mesh(solid_clip,\n",
    "           scalars='temp',\n",
    "           cmap='bwr',\n",
    "           clim=(0,600),\n",
    "           show_edges=True,\n",
    "           show_scalar_bar=False)\n",
    "\n",
    "p.add_mesh(fluid_clip,\n",
    "           scalars='Temperature',\n",
    "           cmap='bwr',\n",
    "           clim=(0,600),\n",
    "           scalar_bar_args={'width' : 0.9,\n",
    "                            'position_x' : 0.05,\n",
    "                            'fmt' : \"%.3g\"})\n",
    "p.camera.zoom(2.)\n",
    "p.show()"
   ]
  }
 ],
 "metadata": {
  "kernelspec": {
   "display_name": "venv",
   "language": "python",
   "name": "python3"
  },
  "language_info": {
   "codemirror_mode": {
    "name": "ipython",
    "version": 3
   },
   "file_extension": ".py",
   "mimetype": "text/x-python",
   "name": "python",
   "nbconvert_exporter": "python",
   "pygments_lexer": "ipython3",
   "version": "3.10.12"
  }
 },
 "nbformat": 4,
 "nbformat_minor": 2
}
