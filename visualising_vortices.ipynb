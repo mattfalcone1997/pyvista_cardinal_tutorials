{
 "cells": [
  {
   "cell_type": "markdown",
   "id": "4a92c5a8",
   "metadata": {},
   "source": [
    "# Visualising near-wall coherent structures\n",
    "\n",
    "This tutorial showcases Pyvista's ability to directly access the underlying data giving user's significant flexibility. The data has been gzipped to bypass file size limitations on GitHub. To decompress\n",
    "\n",
    "```bash\n",
    "gzip -d turbChannel/*.gz\n",
    "```\n",
    "\n",
    "## Turbulent channel flow\n",
    "In this example we use the doubly periodic turbulent channel flow example from nekRS. This has been run at friction Reynolds number, $Re_\\tau=550$ (don't worry). We will be visulising some of the important near wall coherent turbulent structures to showcase Pyvista's ability."
   ]
  },
  {
   "cell_type": "code",
   "execution_count": 1,
   "id": "5eabba52",
   "metadata": {},
   "outputs": [
    {
     "name": "stdout",
     "output_type": "stream",
     "text": [
      "3D-Mesh found, spectral element of size = 8*8*8=512\n"
     ]
    },
    {
     "data": {
      "application/vnd.jupyter.widget-view+json": {
       "model_id": "d771787cb87d4b82aacb35a8bb832cc7",
       "version_major": 2,
       "version_minor": 0
      },
      "text/plain": [
       "Widget(value='<iframe src=\"http://localhost:40369/index.html?ui=P_0x76e799e43550_0&reconnect=auto\" class=\"pyvi…"
      ]
     },
     "metadata": {},
     "output_type": "display_data"
    }
   ],
   "source": [
    "import pyvista as pv\n",
    "# Load the data\n",
    "fluid_reader = pv.get_reader('turbChannel/turbChannel.nek5000')\n",
    "fluid_reader.enable_merge_points()\n",
    "fluid_reader.set_active_time_point(fluid_reader.number_time_points-1)\n",
    "\n",
    "fluid = fluid_reader.read()\n",
    "fluid.plot(window_size=(450,450),\n",
    "           scalars='Velocity',\n",
    "           cmap='bwr')"
   ]
  },
  {
   "cell_type": "markdown",
   "id": "f26e25dd",
   "metadata": {},
   "source": [
    "## Point data and cell data\n",
    "From Paraview, you should already be familiar with point data and cell data\n",
    "- Point data: arrays defined at the cell vertices.\n",
    "- Cell data: arrays defined in the element.\n",
    "\n",
    "In Pyvista, they can be accessed using `point_data` and `cell_data` with different arrays accessed by key."
   ]
  },
  {
   "cell_type": "code",
   "execution_count": 2,
   "id": "db755486",
   "metadata": {},
   "outputs": [
    {
     "name": "stdout",
     "output_type": "stream",
     "text": [
      "pyvista DataSetAttributes\n",
      "Association     : POINT\n",
      "Active Scalars  : Velocity-normed\n",
      "Active Vectors  : None\n",
      "Active Texture  : None\n",
      "Active Normals  : None\n",
      "Contains arrays :\n",
      "    Velocity                float32    (3630803, 3)\n",
      "    Velocity Magnitude      float32    (3630803,)\n",
      "    Pressure                float32    (3630803,)\n",
      "    Velocity-normed         float32    (3630803,)           SCALARS\n",
      "Velocity pyvista_ndarray (3630803, 3)\n",
      "Velocity Magnitude pyvista_ndarray (3630803,)\n",
      "Pressure pyvista_ndarray (3630803,)\n",
      "Velocity-normed pyvista_ndarray (3630803,)\n"
     ]
    }
   ],
   "source": [
    "print(fluid.point_data)\n",
    "\n",
    "for key in fluid.point_data.keys():\n",
    "    print(key,\n",
    "          type(fluid.point_data[key]).__name__,\n",
    "          fluid.point_data[key].shape)"
   ]
  },
  {
   "cell_type": "markdown",
   "id": "46c2558c",
   "metadata": {
    "vscode": {
     "languageId": "plaintext"
    }
   },
   "source": [
    "## $\\lambda_2$ vortex indentification criteria\n",
    "\n",
    "Vortices represent one of the most important and widely recognised features of turbulent flows. In this tutorial, we show these using the $\\lambda_2$ vortex identification criterion as it provides an ideal opportunity to show manipulation of the underlying data in Pyvista and its compatability with numpy. Jeong & Hussein (1995) defined a vortex to be where the second largest eigenvalue, $\\lambda_2<0$ of the matrix\n",
    "\n",
    "$S_{ik}S_{kj} + \\Omega_{ik}\\Omega_{kj},$\n",
    "\n",
    "where $S_{ij}$ is the strain rate tensor and $\\Omega_{ij}$ is the rotational rate tensor defined as \n",
    "\n",
    "$S_{ij}=\\frac{1}{2}\\left(\\frac{\\partial u_i}{\\partial x_j} + \\frac{\\partial u_j}{\\partial x_i}\\right)$\n",
    "\n",
    "$\\Omega_{ij}=\\frac{1}{2}\\left(\\frac{\\partial u_i}{\\partial x_j} - \\frac{\\partial u_j}{\\partial x_i}\\right)$\n",
    "\n",
    "First we need to compute the gradient..."
   ]
  },
  {
   "cell_type": "code",
   "execution_count": 3,
   "id": "ecb8c533",
   "metadata": {},
   "outputs": [
    {
     "name": "stdout",
     "output_type": "stream",
     "text": [
      "pyvista DataSetAttributes\n",
      "Association     : POINT\n",
      "Active Scalars  : Velocity-normed\n",
      "Active Vectors  : None\n",
      "Active Texture  : None\n",
      "Active Normals  : None\n",
      "Contains arrays :\n",
      "    Velocity                float32    (3630803, 3)\n",
      "    Velocity Magnitude      float32    (3630803,)\n",
      "    Pressure                float32    (3630803,)\n",
      "    Velocity-normed         float32    (3630803,)           SCALARS\n",
      "    gradient                float32    (3630803, 9)\n",
      "    qcrit                   float32    (3630803,)\n"
     ]
    }
   ],
   "source": [
    "fluid = fluid.compute_derivative(scalars='Velocity',\n",
    "                                 qcriterion='qcrit')\n",
    "\n",
    "print(fluid.point_data)"
   ]
  },
  {
   "cell_type": "markdown",
   "id": "e84a01d2",
   "metadata": {},
   "source": [
    "We need to compute $S_{ij}$ and $\\Omega_{ij}$. Note that the velocity gradient tensor is arranges as (XX, XY, XZ, YX, YY, YZ, ZX, ZY, ZZ)"
   ]
  },
  {
   "cell_type": "code",
   "execution_count": 4,
   "id": "d9ad37c1",
   "metadata": {},
   "outputs": [],
   "source": [
    "import numpy as np\n",
    "dudx = fluid.point_data['gradient'].reshape((fluid.n_points,3,3))\n",
    "dudxT = np.transpose(dudx, axes=(0,2,1))\n",
    "\n",
    "S = 0.5*(dudx + dudxT)\n",
    "Omega = 0.5*(dudx - dudxT)\n",
    "\n",
    "A = np.matmul(S, S) + np.matmul(Omega, Omega)"
   ]
  },
  {
   "cell_type": "markdown",
   "id": "162f655f",
   "metadata": {},
   "source": [
    "Calculate the second largest eigenvalue using `np.linalg.eigh`"
   ]
  },
  {
   "cell_type": "code",
   "execution_count": 5,
   "id": "1ade014c",
   "metadata": {},
   "outputs": [],
   "source": [
    "lambda_, _ = np.linalg.eigh(A)\n",
    "fluid.point_data['lambda2'] = lambda_[:,1]"
   ]
  },
  {
   "cell_type": "markdown",
   "id": "c941b1e9",
   "metadata": {},
   "source": [
    "### Plotting the isosurface\n",
    "\n",
    "First, we need to create the isosurface which can be done using the `contour` filter"
   ]
  },
  {
   "cell_type": "code",
   "execution_count": 6,
   "id": "b2f3471f",
   "metadata": {},
   "outputs": [],
   "source": [
    "lambda2_contour = fluid.contour(scalars='lambda2',\n",
    "                                isosurfaces=[-2])\n",
    "\n",
    "Q_contour = fluid.contour(scalars='qcrit',\n",
    "                          isosurfaces=[2])"
   ]
  },
  {
   "cell_type": "markdown",
   "id": "fe560fce",
   "metadata": {},
   "source": [
    "We will now plot both using linked views"
   ]
  },
  {
   "cell_type": "code",
   "execution_count": 7,
   "id": "36b3de11",
   "metadata": {},
   "outputs": [
    {
     "data": {
      "application/vnd.jupyter.widget-view+json": {
       "model_id": "f2e36f30456d473a80a35438fb25564e",
       "version_major": 2,
       "version_minor": 0
      },
      "text/plain": [
       "Widget(value='<iframe src=\"http://localhost:40369/index.html?ui=P_0x76e709c7d5a0_1&reconnect=auto\" class=\"pyvi…"
      ]
     },
     "metadata": {},
     "output_type": "display_data"
    }
   ],
   "source": [
    "# Create two side-by-side render windows\n",
    "p = pv.Plotter(window_size=(800,400), shape=(1,2), border=False)\n",
    "\n",
    "#select first render window and plot the element blocks\n",
    "p.subplot(0,0)\n",
    "p.add_mesh(lambda2_contour,\n",
    "           scalars='Velocity',\n",
    "           cmap='bwr')\n",
    "\n",
    "#select second render window and plot each side set with a different color\n",
    "\n",
    "p.subplot(0,1)\n",
    "p.add_mesh(Q_contour,\n",
    "           scalars='Velocity',\n",
    "           cmap='bwr')\n",
    "\n",
    "#link views and adjust camera\n",
    "p.link_views()\n",
    "p.view_zy()\n",
    "p.camera.azimuth = 30\n",
    "p.camera.elevation = 20\n",
    "p.show()"
   ]
  },
  {
   "cell_type": "markdown",
   "id": "e2a03a40",
   "metadata": {},
   "source": [
    "## Visualising near wall streaks\n",
    "\n",
    "Another important near-wall coherent structure are the alternating low and high speed streaks that are found near the wall. This can visualised using isosurfaces of the streamwise fluctuating velocity, $u'=u -\\bar{u}$. While NekRS gives us the velocity, we must calculate its mean. \n",
    "\n",
    "Given the statistics of turbulent channel flow are streamwise/spanwise homogeneous, we can compute the average in the average in these directions. While the data from NekRS is unstructured, the grid itself is structured, which we can recover.\n",
    "\n",
    "First, we must find the unique coordinates of the points in the $y$ direction, noting that the polynomial order of the case is 7 and there are 16 elements in the $y$ direction giving an expected number of points as $7\\times 16 +1$"
   ]
  },
  {
   "cell_type": "code",
   "execution_count": 8,
   "id": "f609990c",
   "metadata": {},
   "outputs": [],
   "source": [
    "y_points = fluid.points[:, 1]\n",
    "y = np.unique(y_points)\n",
    "\n",
    "assert y.size == 7*16+1"
   ]
  },
  {
   "cell_type": "markdown",
   "id": "8e7e7320",
   "metadata": {},
   "source": [
    "Now, we will loop through the values of `y` and average $u$ where `y_points == y`. We then subtract this from $u$ to get the $u'$. This is then assigned to the fluid data."
   ]
  },
  {
   "cell_type": "code",
   "execution_count": 9,
   "id": "47c87a3a",
   "metadata": {},
   "outputs": [],
   "source": [
    "uprime = np.zeros((fluid.n_points))\n",
    "for i in range(y.size):\n",
    "    mask = y_points == y[i]\n",
    "\n",
    "    u = fluid.point_data['Velocity'][mask, 0]\n",
    "    u_mean = u.mean()\n",
    "    uprime[mask] = u - u_mean\n",
    "\n",
    "fluid.point_data[\"u'\"] = uprime"
   ]
  },
  {
   "cell_type": "markdown",
   "id": "47698a9c",
   "metadata": {},
   "source": [
    "Similar to the vortices, these will be visualised using the `contour` method. In this case, for clarity we will show only the streaks on the bottom wall, which is located at $y=-1$. This is achieved by using the `clip` method."
   ]
  },
  {
   "cell_type": "code",
   "execution_count": 10,
   "id": "3fbfb60b",
   "metadata": {},
   "outputs": [],
   "source": [
    "fluid_clipped = fluid.clip(normal='y',\n",
    "                           origin=(0,-0.85,0))\n",
    "\n",
    "low_speed = fluid_clipped.contour(scalars=\"u'\",\n",
    "                          isosurfaces=[-0.15])\n",
    "\n",
    "high_speed = fluid_clipped.contour(scalars=\"u'\",\n",
    "                          isosurfaces=[0.15])"
   ]
  },
  {
   "cell_type": "markdown",
   "id": "04af6369",
   "metadata": {},
   "source": [
    "Now we can plot both with different colours for low-speed and high-speed streaks. To show the wall, we will also add a floor."
   ]
  },
  {
   "cell_type": "code",
   "execution_count": 11,
   "id": "08b0a1ce",
   "metadata": {},
   "outputs": [
    {
     "data": {
      "application/vnd.jupyter.widget-view+json": {
       "model_id": "22b9a326620042d2a458a250f406c659",
       "version_major": 2,
       "version_minor": 0
      },
      "text/plain": [
       "Widget(value='<iframe src=\"http://localhost:40369/index.html?ui=P_0x76e709c7c2e0_2&reconnect=auto\" class=\"pyvi…"
      ]
     },
     "metadata": {},
     "output_type": "display_data"
    }
   ],
   "source": [
    "# Create two side-by-side render windows\n",
    "p = pv.Plotter(window_size=(800,400))\n",
    "\n",
    "#select first render window and plot the element blocks\n",
    "p.add_mesh(low_speed, color='g')\n",
    "p.add_mesh(high_speed, color='b')\n",
    "p.add_floor(face='-y')\n",
    "\n",
    "p.view_zy()\n",
    "p.camera.azimuth = 30\n",
    "p.camera.elevation =20\n",
    "p.add_axes()\n",
    "p.show()"
   ]
  }
 ],
 "metadata": {
  "kernelspec": {
   "display_name": "vtk_parallel",
   "language": "python",
   "name": "python3"
  },
  "language_info": {
   "codemirror_mode": {
    "name": "ipython",
    "version": 3
   },
   "file_extension": ".py",
   "mimetype": "text/x-python",
   "name": "python",
   "nbconvert_exporter": "python",
   "pygments_lexer": "ipython3",
   "version": "3.10.12"
  }
 },
 "nbformat": 4,
 "nbformat_minor": 5
}
