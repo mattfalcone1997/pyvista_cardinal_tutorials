{
 "cells": [
  {
   "cell_type": "markdown",
   "id": "4a92c5a8",
   "metadata": {},
   "source": [
    "# Visualising vortices\n",
    "\n",
    "This tutorial showcases Pyvista's ability to directly access the underlying data giving user's significant flexibility. The data has been gzipped to bypass file size limitations on GitHub. To decompress\n",
    "\n",
    "```bash\n",
    "gzip -d turbChannel/*.gz\n",
    "```\n",
    "\n",
    "## Turbulent pipe flow\n",
    "In this example we use the doubly periodic turbulent channel flow example from nekRS. This has been run at friction Reynolds number, $Re_\\tau=550$ (don't worry)."
   ]
  },
  {
   "cell_type": "code",
   "execution_count": 19,
   "id": "5eabba52",
   "metadata": {},
   "outputs": [
    {
     "name": "stdout",
     "output_type": "stream",
     "text": [
      "3D-Mesh found, spectral element of size = 8*8*8=512\n"
     ]
    },
    {
     "data": {
      "application/vnd.jupyter.widget-view+json": {
       "model_id": "6ccb4496ae6d41539450b2381694c31f",
       "version_major": 2,
       "version_minor": 0
      },
      "text/plain": [
       "Widget(value='<iframe src=\"http://localhost:46471/index.html?ui=P_0x72ed4c3709d0_6&reconnect=auto\" class=\"pyvi…"
      ]
     },
     "metadata": {},
     "output_type": "display_data"
    }
   ],
   "source": [
    "import pyvista as pv\n",
    "# Load the data\n",
    "fluid_reader = pv.get_reader('turbChannel/turbChannel.nek5000')\n",
    "fluid_reader.enable_merge_points()\n",
    "fluid_reader.set_active_time_point(fluid_reader.number_time_points-1)\n",
    "\n",
    "fluid = fluid_reader.read()\n",
    "fluid.plot(window_size=(450,450),\n",
    "           scalars='Velocity',\n",
    "           cmap='bwr')"
   ]
  },
  {
   "cell_type": "markdown",
   "id": "f26e25dd",
   "metadata": {},
   "source": [
    "## Point data and cell data\n",
    "From Paraview, you should already be familiar with point data and cell data\n",
    "- Point data: arrays defined at the cell vertices.\n",
    "- Cell data: arrays defined in the element.\n",
    "\n",
    "In Pyvista, they can be accessed using `point_data` and `cell_data` with different arrays accessed by key."
   ]
  },
  {
   "cell_type": "code",
   "execution_count": 20,
   "id": "db755486",
   "metadata": {},
   "outputs": [
    {
     "name": "stdout",
     "output_type": "stream",
     "text": [
      "pyvista DataSetAttributes\n",
      "Association     : POINT\n",
      "Active Scalars  : Velocity-normed\n",
      "Active Vectors  : None\n",
      "Active Texture  : None\n",
      "Active Normals  : None\n",
      "Contains arrays :\n",
      "    Velocity                float32    (3630803, 3)\n",
      "    Velocity Magnitude      float32    (3630803,)\n",
      "    Pressure                float32    (3630803,)\n",
      "    Velocity-normed         float32    (3630803,)           SCALARS\n",
      "Velocity pyvista_ndarray (3630803, 3)\n",
      "Velocity Magnitude pyvista_ndarray (3630803,)\n",
      "Pressure pyvista_ndarray (3630803,)\n",
      "Velocity-normed pyvista_ndarray (3630803,)\n"
     ]
    }
   ],
   "source": [
    "print(fluid.point_data)\n",
    "\n",
    "for key in fluid.point_data.keys():\n",
    "    print(key,\n",
    "          type(fluid.point_data[key]).__name__,\n",
    "          fluid.point_data[key].shape)"
   ]
  },
  {
   "cell_type": "markdown",
   "id": "46c2558c",
   "metadata": {
    "vscode": {
     "languageId": "plaintext"
    }
   },
   "source": [
    "## $\\lambda_2$ vortex indentification criteria\n",
    "\n",
    "In this tutorial, we calculate the $\\lambda_2$ criterion as it provides an ideal opportunity to show manipulation of the underlying data in Pyvista and its compatability with numpy. Jeong & Hussein (1995) defined a vortex to be where the second largest eigenvalue, $\\lambda_2<0$ of the matrix\n",
    "\n",
    "$S_{ik}S_{kj} + \\Omega_{ik}\\Omega_{kj},$\n",
    "\n",
    "where $S_{ij}$ is the strain rate tensor and $\\Omega_{ij}$ is the rotational rate tensor defined as \n",
    "\n",
    "$S_{ij}=\\frac{1}{2}\\left(\\frac{\\partial u_i}{\\partial x_j} + \\frac{\\partial u_j}{\\partial x_i}\\right)$\n",
    "\n",
    "$\\Omega_{ij}=\\frac{1}{2}\\left(\\frac{\\partial u_i}{\\partial x_j} - \\frac{\\partial u_j}{\\partial x_i}\\right)$\n",
    "\n",
    "First we need to compute the gradient..."
   ]
  },
  {
   "cell_type": "code",
   "execution_count": 21,
   "id": "ecb8c533",
   "metadata": {},
   "outputs": [
    {
     "name": "stdout",
     "output_type": "stream",
     "text": [
      "pyvista DataSetAttributes\n",
      "Association     : POINT\n",
      "Active Scalars  : Velocity-normed\n",
      "Active Vectors  : None\n",
      "Active Texture  : None\n",
      "Active Normals  : None\n",
      "Contains arrays :\n",
      "    Velocity                float32    (3630803, 3)\n",
      "    Velocity Magnitude      float32    (3630803,)\n",
      "    Pressure                float32    (3630803,)\n",
      "    Velocity-normed         float32    (3630803,)           SCALARS\n",
      "    gradient                float32    (3630803, 9)\n",
      "    qcrit                   float32    (3630803,)\n"
     ]
    }
   ],
   "source": [
    "fluid = fluid.compute_derivative(scalars='Velocity',\n",
    "                                 qcriterion='qcrit')\n",
    "\n",
    "print(fluid.point_data)"
   ]
  },
  {
   "cell_type": "markdown",
   "id": "e84a01d2",
   "metadata": {},
   "source": [
    "We need to compute $S_{ij}$ and $\\Omega_{ij}$. Note that the velocity gradient tensor is arranges as (XX, XY, XZ, YX, YY, YZ, ZX, ZY, ZZ)"
   ]
  },
  {
   "cell_type": "code",
   "execution_count": 31,
   "id": "d9ad37c1",
   "metadata": {},
   "outputs": [],
   "source": [
    "import numpy as np\n",
    "dudx = fluid.point_data['gradient'].reshape((fluid.n_points,3,3))\n",
    "dudxT = np.transpose(dudx, axes=(0,2,1))\n",
    "\n",
    "S = 0.5*(dudx + dudxT)\n",
    "Omega = 0.5*(dudx - dudxT)\n",
    "\n",
    "A = np.matmul(S, S) + np.matmul(Omega, Omega)"
   ]
  },
  {
   "cell_type": "markdown",
   "id": "162f655f",
   "metadata": {},
   "source": [
    "Calculate the second largest eigenvalue using `np.linalg.eigh`"
   ]
  },
  {
   "cell_type": "code",
   "execution_count": 23,
   "id": "1ade014c",
   "metadata": {},
   "outputs": [],
   "source": [
    "lambda_, _ = np.linalg.eigh(A)\n",
    "fluid.point_data['lambda2'] = lambda_[:,1]"
   ]
  },
  {
   "cell_type": "markdown",
   "id": "c941b1e9",
   "metadata": {},
   "source": [
    "### Plotting the isosurface\n",
    "\n",
    "First, we need to create the isosurface which can be done using the `contour` filter"
   ]
  },
  {
   "cell_type": "code",
   "execution_count": 32,
   "id": "b2f3471f",
   "metadata": {},
   "outputs": [],
   "source": [
    "lambda2_contour = fluid.contour(scalars='lambda2',\n",
    "                                isosurfaces=[-2])\n",
    "\n",
    "Q_contour = fluid.contour(scalars='qcrit',\n",
    "                          isosurfaces=[2])"
   ]
  },
  {
   "cell_type": "markdown",
   "id": "fe560fce",
   "metadata": {},
   "source": [
    "We will now plot both using linked views"
   ]
  },
  {
   "cell_type": "code",
   "execution_count": 35,
   "id": "36b3de11",
   "metadata": {},
   "outputs": [
    {
     "data": {
      "application/vnd.jupyter.widget-view+json": {
       "model_id": "0854fb8711d24286a674e1fb9734a348",
       "version_major": 2,
       "version_minor": 0
      },
      "text/plain": [
       "Widget(value='<iframe src=\"http://localhost:46471/index.html?ui=P_0x72ec5e4b9bd0_12&reconnect=auto\" class=\"pyv…"
      ]
     },
     "metadata": {},
     "output_type": "display_data"
    }
   ],
   "source": [
    "# Create two side-by-side render windows\n",
    "p = pv.Plotter(window_size=(800,400), shape=(1,2), border=False)\n",
    "\n",
    "#select first render window and plot the element blocks\n",
    "p.subplot(0,0)\n",
    "p.add_mesh(lambda2_contour,\n",
    "           scalars='Velocity',\n",
    "           cmap='bwr')\n",
    "\n",
    "#select second render window and plot each side set with a different color\n",
    "\n",
    "p.subplot(0,1)\n",
    "p.add_mesh(Q_contour,\n",
    "           scalars='Velocity',\n",
    "           cmap='bwr')\n",
    "\n",
    "#link views and adjust camera\n",
    "p.link_views()\n",
    "p.view_zy()\n",
    "p.camera.azimuth = 30\n",
    "p.camera.elevation = 20\n",
    "p.show()"
   ]
  }
 ],
 "metadata": {
  "kernelspec": {
   "display_name": "vtk_parallel",
   "language": "python",
   "name": "python3"
  },
  "language_info": {
   "codemirror_mode": {
    "name": "ipython",
    "version": 3
   },
   "file_extension": ".py",
   "mimetype": "text/x-python",
   "name": "python",
   "nbconvert_exporter": "python",
   "pygments_lexer": "ipython3",
   "version": "3.10.12"
  }
 },
 "nbformat": 4,
 "nbformat_minor": 5
}
