{
 "cells": [
  {
   "cell_type": "code",
   "execution_count": null,
   "metadata": {},
   "outputs": [
    {
     "name": "stdout",
     "output_type": "stream",
     "text": [
      "3D-Mesh found, spectral element of size = 4*4*4=64\n",
      "pyvista DataSetAttributes\n",
      "Association     : CELL\n",
      "Active Scalars  : None\n",
      "Active Vectors  : None\n",
      "Active Texture  : None\n",
      "Active Normals  : None\n",
      "Contains arrays :\n",
      "    spectral element id     uint32     (51408,)\n"
     ]
    }
   ],
   "source": [
    "import pyvista as pv\n",
    "import high_order_cy\n",
    "from pathlib import Path\n",
    "\n",
    "path_base = Path(\"../pebble_cht\")\n",
    "\n",
    "# get_reader function uses the file extensions to determine which reader should be used\n",
    "fluid_reader = pv.get_reader(path_base / \"pebble.nek5000\")\n",
    "\n",
    "fluid_reader.enable_spectral_element_ids()\n",
    "fluid = fluid_reader.read()\n",
    "\n",
    "print(fluid.cell_data)"
   ]
  },
  {
   "cell_type": "code",
   "execution_count": 4,
   "metadata": {},
   "outputs": [
    {
     "name": "stdout",
     "output_type": "stream",
     "text": [
      "[ 0  3 15 12 48 51 63 60  1  2  7 11 13 14  4  8 49 50 55 59 61 62 52 56\n",
      " 16 32 19 35 31 47 28 44 20 24 36 40 23 27 39 43 17 18 33 34 29 30 45 46\n",
      "  5  6  9 10 53 54 57 58 21 22 25 26 37 38 41 42]\n"
     ]
    }
   ],
   "source": [
    "import numpy as np\n",
    "\n",
    "def np_array(ordering):\n",
    "    \"\"\"Wrapper for np.array to simplify common modifications\"\"\"\n",
    "    return np.array(ordering, dtype=np.float64)\n",
    "\n",
    "def n_verts_between(n, frm, to):\n",
    "    \"\"\"Places `n` vertices on the edge between `frm` and `to`\"\"\"\n",
    "    if n <= 0:\n",
    "        return np.ndarray((0, 3)) # empty\n",
    "    edge_verts = np.stack((\n",
    "        np.linspace(frm[0], to[0], num=n+1, endpoint=False, axis=0),   # n+1 since start is included, remove later\n",
    "        np.linspace(frm[1], to[1], num=n+1, endpoint=False, axis=0),\n",
    "        np.linspace(frm[2], to[2], num=n+1, endpoint=False, axis=0),\n",
    "        ), axis=1)\n",
    "    return edge_verts[1:] # remove start point\n",
    "\n",
    "def number_quadrilateral(corner_verts, order, skip=False):\n",
    "    \"\"\"Outputs the list of coordinates of a right-angled quadrilateral of arbitrary order in the right ordering\"\"\"\n",
    "    # first: corner vertices\n",
    "    coords = np_array(corner_verts) if not skip else np.ndarray((0, 3)) # empty if skip\n",
    "    # second: edges\n",
    "    num_verts_on_edge = order -1\n",
    "    edges = [(0,1), (1,2), (3,2), (0,3)]\n",
    "    for frm, to in edges:\n",
    "        coords = np.concatenate([coords, n_verts_between(num_verts_on_edge, corner_verts[frm], corner_verts[to])], axis=0) if not skip else np.ndarray((0, 3)) # empty if skip\n",
    "    # third: face\n",
    "    e_x = (corner_verts[1] - corner_verts[0]) / order\n",
    "    e_y = (corner_verts[3] - corner_verts[0]) / order\n",
    "    pos_y = corner_verts[0].copy()\n",
    "    pos_y = np.expand_dims(pos_y, axis=0)\n",
    "    for _ in range(num_verts_on_edge):\n",
    "        pos_y += e_y\n",
    "        pos_yx = pos_y.copy()\n",
    "        for _ in range(num_verts_on_edge):\n",
    "            pos_yx += e_x\n",
    "            coords = np.concatenate([coords, pos_yx], axis=0)\n",
    "    return coords\n",
    "\n",
    "\n",
    "def number_hexahedron(corner_verts, order):\n",
    "    \"\"\"Outputs the list of coordinates of a right-angled hexahedron of arbitrary order in the right ordering\"\"\"\n",
    "    # first: corner vertices\n",
    "    coords = np_array(corner_verts)\n",
    "    # second: edges\n",
    "    num_verts_on_edge = order - 1\n",
    "    edges = [(0,1), (1,2), (3,2), (0,3), (4,5), (5,6), (7,6), (4,7), (0,4), (1,5), (2,6), (3,7)] # TODO: not as in documentation, beware of future changes!!\n",
    "    for frm, to in edges:\n",
    "        coords = np.concatenate([coords, n_verts_between(num_verts_on_edge, corner_verts[frm], corner_verts[to])], axis=0)\n",
    "    # third: faces\n",
    "    faces = [(0,3,7,4), (1,2,6,5), (0,1,5,4), (3,2,6,7), (0,1,2,3), (4,5,6,7)] # TODO: not as in documentation, beware of future changes!!\n",
    "    for indices in faces:\n",
    "        sub_corner_verts = [corner_verts[q] for q in indices]\n",
    "        face_coords = number_quadrilateral(np_array(sub_corner_verts), order, skip=True) # use number_quadrilateral to number face, but skip cornes and edges\n",
    "        coords = np.concatenate([coords, face_coords], axis=0)\n",
    "    # fourth: interior\n",
    "    e_x = (corner_verts[1] - corner_verts[0]) / order\n",
    "    e_y = (corner_verts[3] - corner_verts[0]) / order\n",
    "    e_z = (corner_verts[4] - corner_verts[0]) / order\n",
    "    pos_z = corner_verts[0].copy()\n",
    "    pos_z = np.expand_dims(pos_z, axis=0)\n",
    "    for _ in range(num_verts_on_edge):\n",
    "        pos_z += e_z\n",
    "        pos_zy = pos_z.copy()\n",
    "        for _ in range(num_verts_on_edge):\n",
    "            pos_zy += e_y\n",
    "            pos_zyx = pos_zy.copy()\n",
    "            for _ in range(num_verts_on_edge):\n",
    "                pos_zyx += e_x\n",
    "                coords = np.concatenate([coords, pos_zyx], axis=0)\n",
    "    return coords.astype('i4')\n",
    "\n",
    "def reorder_points(n):\n",
    "\n",
    "    corner_verts = np.array([[0,0,0], [n,0,0],[n,n,0], [0,n,0], [0,0,n], [n,0,n], [n,n,n], [0,n,n]], 'f4')\n",
    "    coords = number_hexahedron(corner_verts, n)\n",
    "    npoints = n + 1\n",
    "    return np.array([x + y*npoints + npoints*npoints*z for x, y, z in coords])\n",
    "\n",
    "\n",
    "print(reorder_points(3))\n"
   ]
  },
  {
   "cell_type": "code",
   "execution_count": null,
   "metadata": {},
   "outputs": [
    {
     "data": {
      "text/plain": [
       "array([ 0,  3, 15, 12, 48, 51, 63, 60,  1,  2,  7, 11, 13, 14,  4,  8, 49,\n",
       "       50, 55, 59, 61, 62, 52, 56, 16, 32, 19, 35, 31, 47, 28, 44, 20, 24,\n",
       "       36, 40, 23, 27, 39, 43, 17, 18, 33, 34, 29, 30, 45, 46,  5,  6,  9,\n",
       "       10, 53, 54, 57, 58, 21, 22, 25, 26, 37, 38, 41, 42])"
      ]
     },
     "execution_count": 7,
     "metadata": {},
     "output_type": "execute_result"
    }
   ],
   "source": [
    "# test cython\n",
    "import high_order_cy\n",
    "import numpy as np\n",
    "n = 3\n",
    "corner_verts = np.array([[0,0,0], [0,n,0], [n,n,0], [n,0,0]], 'f8')\n",
    "coord_quad1 = number_quadrilateral(corner_verts, n)\n",
    "coord_quad2 = high_order_cy.number_quadrilateral(corner_verts, n)\n",
    "print(np.array_equal(coord_quad1, coord_quad2))\n",
    "\n",
    "\n",
    "corner_verts = np.array([[0,0,0], [n,0,0],[n,n,0], [0,n,0], [0,0,n], [n,0,n], [n,n,n], [0,n,n]], 'f8')\n",
    "coord_hex1 = number_hexahedron(corner_verts, n)\n",
    "coord_hex2 = high_order_cy.number_hexahedron(corner_verts, n)\n",
    "\n",
    "for i in range(coord_hex1.shape[0]):\n",
    "    print(i, coord_hex1[i], coord_hex2[i], np.array_equal(coord_hex1[i], coord_hex2[i]))\n",
    "\n",
    "high_order_cy.reorder_points(3)"
   ]
  },
  {
   "cell_type": "code",
   "execution_count": 5,
   "metadata": {},
   "outputs": [
    {
     "name": "stdout",
     "output_type": "stream",
     "text": [
      "UnstructuredGrid (0x7e08969ef580)\n",
      "  N Cells:    1903\n",
      "  N Points:   121792\n",
      "  X Bounds:   -2.530e-02, 2.530e-02\n",
      "  Y Bounds:   -2.530e-02, 2.530e-02\n",
      "  Z Bounds:   -2.153e-01, 2.153e-01\n",
      "  N Arrays:   5\n"
     ]
    }
   ],
   "source": [
    "import vtk\n",
    "\n",
    "N_elements = fluid.cell_data['spectral element id'].max()\n",
    "new_grid = pv.UnstructuredGrid()\n",
    "\n",
    "new_points = vtk.vtkPoints()\n",
    "hex_array = vtk.vtkCellArray()\n",
    "\n",
    "order = 3\n",
    "scalars = fluid.point_data.keys()\n",
    "index_mapper = reorder_points(order)\n",
    "points_per_element = (order+1)*(order+1)*(order+1)\n",
    "point_data = []\n",
    "for key in fluid.point_data.keys():\n",
    "    shape = N_elements*points_per_element if fluid.point_data[key].ndim == 1 else (N_elements*64, fluid.point_data[key].shape[-1])\n",
    "    point_data.append(np.zeros(shape))\n",
    "\n",
    "for i in range(N_elements):\n",
    "    element = fluid.extract_values(values=i,\n",
    "                                   preference='cell',\n",
    "                                   scalars='spectral element id')\n",
    "    hex = vtk.vtkLagrangeHexahedron()\n",
    "    hex.GetPointIds().SetNumberOfIds(element.n_points)\n",
    "    hex.GetPoints().SetNumberOfPoints(element.n_points)\n",
    "    for k, scalar in enumerate(scalars):\n",
    "        start = i*element.n_points\n",
    "        end = (i+1)*element.n_points\n",
    "        point_data[k][start:end] = element.point_data[scalar][index_mapper]\n",
    "\n",
    "    for j in range(element.n_points):\n",
    "\n",
    "        hex.GetPointIds().SetId(j, i*element.n_points + j)\n",
    "        hex.GetPoints().SetPoint(j, *element.points[index_mapper[j]])\n",
    "        new_points.InsertNextPoint(element.points[index_mapper[j]])\n",
    "    \n",
    "    hex.SetUniformOrderFromNumPoints(element.n_points)\n",
    "\n",
    "    hex_array.InsertNextCell(hex)\n",
    "\n",
    "new_grid.SetPoints(new_points)\n",
    "new_grid.SetCells(pv.CellType.LAGRANGE_HEXAHEDRON, hex_array)\n",
    "\n",
    "for i, scalar in enumerate(scalars):\n",
    "    new_grid.point_data[scalar] = point_data[i]\n",
    "\n",
    "\n",
    "print(new_grid)"
   ]
  },
  {
   "cell_type": "code",
   "execution_count": 24,
   "metadata": {},
   "outputs": [
    {
     "data": {
      "application/vnd.jupyter.widget-view+json": {
       "model_id": "25c5ba835ff44b7f8c8bf5834b3c622b",
       "version_major": 2,
       "version_minor": 0
      },
      "text/plain": [
       "Widget(value='<iframe src=\"http://localhost:35355/index.html?ui=P_0x7ff8055930d0_9&reconnect=auto\" class=\"pyvi…"
      ]
     },
     "metadata": {},
     "output_type": "display_data"
    }
   ],
   "source": [
    "new_grid.clip('x',(0,0,0)).plot(cmap='bwr',scalars='Temperature')"
   ]
  },
  {
   "cell_type": "code",
   "execution_count": 8,
   "metadata": {},
   "outputs": [],
   "source": [
    "new_grid = high_order_cy.convert_spectral_elements(fluid)"
   ]
  },
  {
   "cell_type": "code",
   "execution_count": 6,
   "metadata": {},
   "outputs": [
    {
     "data": {
      "application/vnd.jupyter.widget-view+json": {
       "model_id": "ea97a012f3bf4de8ac607cc297e12b71",
       "version_major": 2,
       "version_minor": 0
      },
      "text/plain": [
       "Widget(value='<iframe src=\"http://localhost:38055/index.html?ui=P_0x79f0c41ee7d0_0&reconnect=auto\" class=\"pyvi…"
      ]
     },
     "metadata": {},
     "output_type": "display_data"
    }
   ],
   "source": [
    "new_grid.clip('x',(0,0,0)).plot(cmap='bwr',scalars='Temperature')"
   ]
  }
 ],
 "metadata": {
  "kernelspec": {
   "display_name": "vtk_parallel",
   "language": "python",
   "name": "python3"
  },
  "language_info": {
   "codemirror_mode": {
    "name": "ipython",
    "version": 3
   },
   "file_extension": ".py",
   "mimetype": "text/x-python",
   "name": "python",
   "nbconvert_exporter": "python",
   "pygments_lexer": "ipython3",
   "version": "3.10.12"
  }
 },
 "nbformat": 4,
 "nbformat_minor": 2
}
